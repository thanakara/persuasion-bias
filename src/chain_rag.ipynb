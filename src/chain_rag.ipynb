{
 "cells": [
  {
   "cell_type": "code",
   "execution_count": null,
   "id": "b4698761",
   "metadata": {},
   "outputs": [],
   "source": [
    "import warnings\n",
    "from dotenv import load_dotenv\n",
    "\n",
    "\n",
    "warnings.filterwarnings(action=\"ignore\")\n",
    "_ = load_dotenv()\n"
   ]
  },
  {
   "cell_type": "code",
   "execution_count": 3,
   "id": "a556ec50",
   "metadata": {},
   "outputs": [
    {
     "name": "stdout",
     "output_type": "stream",
     "text": [
      "\n",
      "    +------------------------------------------------+\n",
      "    | Simple one-turn RAG runnable using open source |\n",
      "    +------------------------------------------------+\n",
      "    \n"
     ]
    }
   ],
   "source": [
    "from langchain_chroma import Chroma\n",
    "from persuasion_bias.rag.chain import ChainRAGHuggingFace\n",
    "\n",
    "\n",
    "chain_rag_huggingface = ChainRAGHuggingFace(\n",
    "    model_repo_id=\"meta-llama/Llama-3.2-3B-Instruct\",\n",
    "    embedding_model_repo_id=\"sentence-transformers/all-MiniLM-L6-v2\",\n",
    "    vector_storage=Chroma,\n",
    ")\n",
    "\n",
    "print(chain_rag_huggingface.__doc__)\n"
   ]
  },
  {
   "cell_type": "code",
   "execution_count": 4,
   "id": "a2255cc1",
   "metadata": {},
   "outputs": [],
   "source": [
    "runnable = chain_rag_huggingface.create_runnable_sequence()"
   ]
  },
  {
   "cell_type": "code",
   "execution_count": null,
   "id": "753aeb42",
   "metadata": {},
   "outputs": [
    {
     "data": {
      "text/plain": [
       "{\n",
       "  question: RunnablePassthrough(),\n",
       "  documents: VectorStoreRetriever(tags=['Chroma', 'HuggingFaceEmbeddings'], vectorstore=<langchain_chroma.vectorstores.Chroma object at 0x000001AE47C3BB00>, search_kwargs={'k': 3})\n",
       "}\n",
       "| ChatPromptTemplate(input_variables=['documents', 'question'], input_types={}, partial_variables={}, messages=[HumanMessagePromptTemplate(prompt=PromptTemplate(input_variables=['documents', 'question'], input_types={}, partial_variables={}, template=\"<|begin_of_text|><|start_header_id|>system<|end_header_id|>\\n\\nCutting Knowledge Date: December 2023\\nToday Date: 04 Sep 2025\\n\\nYou are a helpful assistant who is an expert\\n        in persuassiveness and argumentation. Detect bias in the argument\\n        and rate it based on score. Give succinct answers, only in Markdown.\\n        IF ONLY the user's question resolves around argumentation,\\n        retrieve documents from your knowledge base. ELSE, respond\\n        normally as you would, without retrieval.\\n\\n        Documents: {documents}<|eot_id|><|start_header_id|>user<|end_header_id|>\\n\\n{question}<|eot_id|><|start_header_id|>assistant<|end_header_id|>\\n\\n\"), additional_kwargs={})])\n",
       "| ChatHuggingFace(llm=HuggingFaceEndpoint(repo_id='meta-llama/Llama-3.2-3B-Instruct', repetition_penalty=1.03, stop_sequences=[], server_kwargs={}, model_kwargs={}, model='meta-llama/Llama-3.2-3B-Instruct', client=<InferenceClient(model='meta-llama/Llama-3.2-3B-Instruct', timeout=120)>, async_client=<InferenceClient(model='meta-llama/Llama-3.2-3B-Instruct', timeout=120)>, task='text-generation'), model_id='meta-llama/Llama-3.2-3B-Instruct', model_kwargs={})\n",
       "| StrOutputParser()"
      ]
     },
     "execution_count": 5,
     "metadata": {},
     "output_type": "execute_result"
    }
   ],
   "source": [
    "runnable"
   ]
  },
  {
   "cell_type": "code",
   "execution_count": 8,
   "id": "c2cf0217",
   "metadata": {},
   "outputs": [],
   "source": [
    "from functools import cache\n",
    "from IPython.display import display, Markdown\n",
    "\n",
    "\n",
    "@cache\n",
    "def argue(argument: str) -> None:\n",
    "    reply = runnable.invoke(argument)\n",
    "\n",
    "    display(Markdown(reply))"
   ]
  },
  {
   "cell_type": "code",
   "execution_count": 9,
   "id": "1a39ea53",
   "metadata": {},
   "outputs": [
    {
     "data": {
      "text/markdown": [
       "**Bias Rating: 3/5**\n",
       "\n",
       "The argument presented is generally persuasive, but it has some flaws.\n",
       "\n",
       "The claim that attention span is decreasing is supported by various studies, and the argument highlights the potential risks of excessive screen time and social media use on cognitive development.\n",
       "\n",
       "However, the argument lacks concrete evidence and specific examples to support its claims. It also relies on general statements and assumptions, such as \"the addictive nature of these technologies\" and \"the constant need to keep up with social media.\"\n",
       "\n",
       "Additionally, the argument does not provide a clear solution or alternative to banning smartphones and social media for children under 16. It simply states that banning these technologies would be beneficial without explaining how it would be implemented or enforced.\n",
       "\n",
       "Overall, while the argument has some merit, it could be strengthened with more specific evidence and a clearer plan for implementation."
      ],
      "text/plain": [
       "<IPython.core.display.Markdown object>"
      ]
     },
     "metadata": {},
     "output_type": "display_data"
    }
   ],
   "source": [
    "argue(\"Attention span is decreasing.\")"
   ]
  },
  {
   "cell_type": "code",
   "execution_count": 10,
   "id": "e31c5ddc",
   "metadata": {},
   "outputs": [
    {
     "data": {
      "text/markdown": [
       "**Bias Detection and Rating**\n",
       "\n",
       "The argument presented is a general statement about taxation in the US being higher than in Europe. To assess the persuasiveness of this claim, let's analyze the argument.\n",
       "\n",
       "**Strengths:**\n",
       "\n",
       "* The statement is based on a general observation that can be verified through data.\n",
       "* It highlights a potential issue with the current tax system in the US.\n",
       "\n",
       "**Weaknesses:**\n",
       "\n",
       "* The argument lacks specific examples, data, or evidence to support the claim that taxation in the US is higher than in Europe.\n",
       "* It does not address potential counterarguments, such as differences in economic systems, tax structures, or regional variations within Europe.\n",
       "* The statement is too broad and does not provide a clear solution or recommendation.\n",
       "\n",
       "**Rating: 4/10**\n",
       "\n",
       "The argument is a general statement that can be considered persuasive if supported by specific evidence and data. However, as it stands, it lacks the necessary depth and specificity to convince the audience."
      ],
      "text/plain": [
       "<IPython.core.display.Markdown object>"
      ]
     },
     "metadata": {},
     "output_type": "display_data"
    }
   ],
   "source": [
    "argue(\"Taxation in US is higher than Europe.\")"
   ]
  },
  {
   "cell_type": "code",
   "execution_count": null,
   "id": "8ec02e01",
   "metadata": {},
   "outputs": [],
   "source": []
  }
 ],
 "metadata": {
  "kernelspec": {
   "display_name": "persuasion-bias (3.12.7)",
   "language": "python",
   "name": "python3"
  },
  "language_info": {
   "codemirror_mode": {
    "name": "ipython",
    "version": 3
   },
   "file_extension": ".py",
   "mimetype": "text/x-python",
   "name": "python",
   "nbconvert_exporter": "python",
   "pygments_lexer": "ipython3",
   "version": "3.12.7"
  }
 },
 "nbformat": 4,
 "nbformat_minor": 5
}
