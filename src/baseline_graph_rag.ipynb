{
 "cells": [
  {
   "cell_type": "code",
   "execution_count": 1,
   "id": "2c3a3663",
   "metadata": {},
   "outputs": [],
   "source": [
    "import warnings\n",
    "from dotenv import load_dotenv\n",
    "\n",
    "\n",
    "_ = load_dotenv(override=True)\n",
    "warnings.filterwarnings(\"ignore\")"
   ]
  },
  {
   "cell_type": "code",
   "execution_count": 2,
   "id": "626ff815",
   "metadata": {},
   "outputs": [],
   "source": [
    "from persuasion_bias.core.document_loaders import PersuasionDatasetLoader\n",
    "\n",
    "\n",
    "loader = PersuasionDatasetLoader()\n",
    "documents = loader.load_from_huggingface()"
   ]
  },
  {
   "cell_type": "code",
   "execution_count": 3,
   "id": "959cfc7c",
   "metadata": {},
   "outputs": [],
   "source": [
    "from langchain_chroma import Chroma\n",
    "from langchain_huggingface import HuggingFaceEmbeddings\n",
    "from persuasion_bias.core.retrievers import PersuasivenessRetriever\n",
    "\n",
    "\n",
    "embedding = HuggingFaceEmbeddings(\n",
    "    model=\"sentence-transformers/all-MiniLM-L6-v2\",\n",
    "    model_kwargs={\"device\": \"cpu\"},  # TODO FAISS maybe - supports GPU\n",
    "    encode_kwargs={\"normalize_embeddings\": False},\n",
    ")\n",
    "\n",
    "\n",
    "vectorstore = Chroma.from_documents(documents=documents, embedding=embedding)\n",
    "retriever = PersuasivenessRetriever(vectorstore=vectorstore)"
   ]
  },
  {
   "cell_type": "markdown",
   "id": "00cadd19",
   "metadata": {},
   "source": [
    "***SIDEBAR***:\n",
    "\n",
    "The whole point is to get the retriever so we can create the tool. More specifically, we need the mapping *{'toolname': 'toolfunc'}*, so we can execute the tool in runtime on the Retrieval Node of the StateGraph."
   ]
  },
  {
   "cell_type": "code",
   "execution_count": 4,
   "id": "20564fe1",
   "metadata": {},
   "outputs": [
    {
     "data": {
      "text/plain": [
       "{'retriever_tool': <function __main__.retriever_tool(query: str) -> str>}"
      ]
     },
     "execution_count": 4,
     "metadata": {},
     "output_type": "execute_result"
    }
   ],
   "source": [
    "from langchain_core.tools import tool\n",
    "from persuasion_bias.utils.wrappers import join_documents\n",
    "\n",
    "\n",
    "@tool\n",
    "def retriever_tool(query: str) -> str:\n",
    "    \"\"\"Tool that returns relevant documents from knowledge base.\"\"\"\n",
    "    documents = retriever.invoke(query)\n",
    "\n",
    "    if not documents:\n",
    "        return \"I found no relevant documents from the Persuasion Dataset\"\n",
    "\n",
    "    return join_documents(documents=documents)\n",
    "\n",
    "\n",
    "tools = [retriever_tool]\n",
    "name_to_func = {t.name: t.func for t in tools}\n",
    "\n",
    "name_to_func\n"
   ]
  },
  {
   "cell_type": "markdown",
   "id": "989dc6a6",
   "metadata": {},
   "source": [
    "The LLM is also passed in the contructor of the our BaselineRAG class."
   ]
  },
  {
   "cell_type": "code",
   "execution_count": 5,
   "id": "29c240b5",
   "metadata": {},
   "outputs": [
    {
     "data": {
      "text/plain": [
       "'RunnableBinding'"
      ]
     },
     "execution_count": 5,
     "metadata": {},
     "output_type": "execute_result"
    }
   ],
   "source": [
    "from langchain_huggingface import HuggingFaceEndpoint, ChatHuggingFace\n",
    "\n",
    "\n",
    "huggingface_endpoint = HuggingFaceEndpoint(\n",
    "    repo_id=\"meta-llama/Llama-3.2-3B-Instruct\",\n",
    "    task=\"text-generation\",\n",
    "    temperature=0,\n",
    "    do_sample=False,\n",
    "    repetition_penalty=1.03,\n",
    ")\n",
    "\n",
    "llm = ChatHuggingFace(llm=huggingface_endpoint).bind_tools(tools=tools)\n",
    "llm.__class__.__name__"
   ]
  },
  {
   "cell_type": "markdown",
   "id": "16da1f16",
   "metadata": {},
   "source": [
    "<hr>"
   ]
  },
  {
   "cell_type": "code",
   "execution_count": 6,
   "id": "12e3e0e9",
   "metadata": {},
   "outputs": [
    {
     "name": "stdout",
     "output_type": "stream",
     "text": [
      "CompiledStateGraph\n"
     ]
    },
    {
     "data": {
      "image/png": "[encoded data removed]",
      "text/plain": [
       "<langgraph.graph.state.CompiledStateGraph object at 0x0000027A043F0440>"
      ]
     },
     "execution_count": 6,
     "metadata": {},
     "output_type": "execute_result"
    }
   ],
   "source": [
    "from persuasion_bias.rag.base import BaselinePersuasionRAG\n",
    "\n",
    "\n",
    "rag_baseline = BaselinePersuasionRAG(llm=llm, tools_dict=name_to_func)\n",
    "agent = rag_baseline._graph_fabricate()\n",
    "\n",
    "print(agent.__class__.__name__)\n",
    "agent"
   ]
  },
  {
   "cell_type": "code",
   "execution_count": 9,
   "id": "8f01b59c",
   "metadata": {},
   "outputs": [],
   "source": [
    "from functools import partial\n",
    "from persuasion_bias.utils.wrappers import get_response_content\n",
    "\n",
    "\n",
    "llama_response = partial(get_response_content, agent=agent)"
   ]
  },
  {
   "cell_type": "code",
   "execution_count": 8,
   "id": "6660d0ff",
   "metadata": {},
   "outputs": [
    {
     "data": {
      "text/markdown": [
       "**Bias Detection and Persuasiveness Rating**\n",
       "\n",
       "The argument \"Animals should be protected\" is a neutral statement that does not contain any explicit bias. However, it can be interpreted as having a positive bias towards animal welfare and conservation.\n",
       "\n",
       "**Persuasiveness Rating:** 4/10\n",
       "\n",
       "The argument is straightforward and easy to understand, but it does not provide any specific evidence or counterarguments to support its claim. It also does not address potential counterarguments or alternative perspectives, which may make it less persuasive to some readers.\n",
       "\n",
       "**Relevant Information:**\n",
       "\n",
       "* The United Nations Food and Agriculture Organization (FAO) estimates that around 70% of the world's agricultural land is dedicated to animal husbandry.\n",
       "* The World Wildlife Fund (WWF) reports that around 70% of the world's land is protected, but only around 15% of these protected areas are wildlife reserves.\n",
       "* The Humane Society of the United States estimates that around 2 billion animals are killed in the United States each year for food.\n",
       "\n",
       "**Tools Used:**\n",
       "\n",
       "* Natural Language Processing (NLP) to analyze the text and detect potential biases.\n",
       "* Knowledge base retrieval to provide relevant information on animal welfare and conservation."
      ],
      "text/plain": [
       "<IPython.core.display.Markdown object>"
      ]
     },
     "metadata": {},
     "output_type": "display_data"
    }
   ],
   "source": [
    "llama_response(argument=\"Animals should be protected\")"
   ]
  },
  {
   "cell_type": "code",
   "execution_count": 11,
   "id": "d4079092",
   "metadata": {},
   "outputs": [
    {
     "data": {
      "text/markdown": [
       "**Bias Detection and Persuasiveness Rating**\n",
       "\n",
       "The argument \"Social media is harmful\" is a common claim that has been debated extensively. The provided text suggests that social media platforms have a duty to moderate harmful content, which is a widely accepted perspective.\n",
       "\n",
       "**Bias Detection:**\n",
       "\n",
       "The text exhibits a moderate to strong bias towards the negative aspects of social media. The language used is emotive, and the author presents a clear moral imperative for social media companies to take responsibility for the content on their platforms. The text also relies heavily on anecdotal evidence and expert opinions to support its claims.\n",
       "\n",
       "**Persuasiveness Rating:**\n",
       "\n",
       "The persuasiveness rating for this argument is 7 out of 10. The text presents a clear and compelling case for social media companies to take responsibility for the content on their platforms. The use of emotive language and expert opinions helps to build a strong narrative that resonates with readers. However, the text could benefit from more concrete evidence and data to support its claims.\n",
       "\n",
       "**Recommendations:**\n",
       "\n",
       "To further strengthen the argument, the author could:\n",
       "\n",
       "1. Provide more concrete evidence and data to support the claims made in the text.\n",
       "2. Engage with counterarguments and address potential criticisms of the argument.\n",
       "3. Offer more nuanced and balanced perspectives on the role of social media in society.\n",
       "4. Consider incorporating more expert opinions and research studies to support the claims.\n",
       "\n",
       "By addressing these areas, the author can further strengthen the argument and increase its persuasiveness."
      ],
      "text/plain": [
       "<IPython.core.display.Markdown object>"
      ]
     },
     "metadata": {},
     "output_type": "display_data"
    }
   ],
   "source": [
    "llama_response(argument=\"Social media is harmful\")"
   ]
  },
  {
   "cell_type": "code",
   "execution_count": null,
   "id": "e699c973",
   "metadata": {},
   "outputs": [],
   "source": []
  }
 ],
 "metadata": {
  "kernelspec": {
   "display_name": "persuasion-bias (3.12.7)",
   "language": "python",
   "name": "python3"
  },
  "language_info": {
   "codemirror_mode": {
    "name": "ipython",
    "version": 3
   },
   "file_extension": ".py",
   "mimetype": "text/x-python",
   "name": "python",
   "nbconvert_exporter": "python",
   "pygments_lexer": "ipython3",
   "version": "3.12.7"
  }
 },
 "nbformat": 4,
 "nbformat_minor": 5
}
