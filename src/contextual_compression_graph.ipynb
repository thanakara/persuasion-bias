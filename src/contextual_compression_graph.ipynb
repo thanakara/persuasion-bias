{
 "cells": [
  {
   "cell_type": "code",
   "execution_count": 2,
   "id": "fe341a18",
   "metadata": {},
   "outputs": [],
   "source": [
    "import hashlib\n",
    "import pathlib\n",
    "import datetime\n",
    "import warnings\n",
    "\n",
    "from dotenv import load_dotenv\n",
    "from IPython.display import Markdown, display\n",
    "from langchain_chroma import Chroma\n",
    "from langchain_anthropic import ChatAnthropic\n",
    "from langchain_huggingface import HuggingFaceEmbeddings\n",
    "from langchain_core.messages import HumanMessage\n",
    "\n",
    "from persuasion_bias.config import logging\n",
    "from persuasion_bias.rag.graphs import BiasExplanation\n",
    "\n",
    "warnings.filterwarnings(\"ignore\")\n",
    "_ = load_dotenv()\n",
    "config_file = pathlib.Path(\"persuasion_bias\") / \"config\" / \"log-config.yaml\"\n",
    "callback = logging.LogCallback()\n",
    "callback.reconfigure_from_file(config_file=config_file)\n",
    "log = callback.logger"
   ]
  },
  {
   "cell_type": "code",
   "execution_count": 3,
   "id": "ef4dadf2",
   "metadata": {},
   "outputs": [
    {
     "name": "stdout",
     "output_type": "stream",
     "text": [
      "[INFO @sentence_transformers.SentenceTransformer]: Load pretrained SentenceTransformer: sentence-transformers/all-MiniLM-L6-v2\n",
      "[INFO @LogCallback]: CompiledStateGraph\n"
     ]
    },
    {
     "data": {
      "image/png": "[encoded data removed]",
      "text/plain": [
       "<langgraph.graph.state.CompiledStateGraph object at 0x000001AD98798E00>"
      ]
     },
     "execution_count": 3,
     "metadata": {},
     "output_type": "execute_result"
    }
   ],
   "source": [
    "kwargs = {\n",
    "    \"model\": \"sentence-transformers/all-MiniLM-L6-v2\",\n",
    "    \"model_kwargs\": {\"device\": \"cpu\"},\n",
    "    \"encode_kwargs\": {\"normalize_embeddings\": True},\n",
    "}\n",
    "model_name = \"claude-3-5-haiku-20241022\"\n",
    "embedding = HuggingFaceEmbeddings(**kwargs)\n",
    "llm = ChatAnthropic(temperature=0, model_name=model_name)\n",
    "agent = BiasExplanation(llm=llm, embedding=embedding, vectorstore=Chroma)\n",
    "graph = agent.graph_fabricate()\n",
    "\n",
    "log.info(graph.__class__.__name__)\n",
    "graph"
   ]
  },
  {
   "cell_type": "code",
   "execution_count": 4,
   "id": "4e284ea4",
   "metadata": {},
   "outputs": [
    {
     "name": "stdout",
     "output_type": "stream",
     "text": [
      "[INFO @httpx]: HTTP Request: POST https://api.anthropic.com/v1/messages \"HTTP/1.1 200 OK\"\n",
      "[INFO @LogCallback]: Hi there! I'd be happy to hear your thoughts about technology. What specific point or perspective would you like to discuss?\n",
      "[INFO @httpx]: HTTP Request: POST https://api.anthropic.com/v1/messages \"HTTP/1.1 200 OK\"\n",
      "[INFO @LogCallback]: Hi Joe! It seems like you were about to make an argument about technology, but you got sidetracked. Would you like to share what point you wanted to discuss about technology?\n",
      "[INFO @httpx]: HTTP Request: POST https://api.anthropic.com/v1/messages \"HTTP/1.1 200 OK\"\n",
      "[INFO @chromadb.telemetry.product.posthog]: Anonymized telemetry enabled. See                     https://docs.trychroma.com/telemetry for more information.\n",
      "[INFO @httpx]: HTTP Request: POST https://api.anthropic.com/v1/messages \"HTTP/1.1 200 OK\"\n",
      "[INFO @httpx]: HTTP Request: POST https://api.anthropic.com/v1/messages \"HTTP/1.1 200 OK\"\n",
      "[INFO @LogCallback]: I have generated a bias explanation for you\n",
      "[INFO @httpx]: HTTP Request: POST https://api.anthropic.com/v1/messages \"HTTP/1.1 200 OK\"\n",
      "[INFO @LogCallback]: You're welcome! Would you like to elaborate on why you think self-driving cars could be dangerous? I'm interested in hearing more about your perspective.\n"
     ]
    }
   ],
   "source": [
    "strftime = datetime.datetime.now().strftime(\"%Y/%m/%d-%H:%M:%S\")\n",
    "sha1 = hashlib.sha1(strftime.encode())\n",
    "config = {\"configurable\": {\"thread_id\": sha1}}\n",
    "\n",
    "query = input(\"You: \")\n",
    "while query != r\"\\q\":\n",
    "    response = graph.invoke(\n",
    "        {\n",
    "            \"messages\": [HumanMessage(content=query)],\n",
    "            \"query\": query,\n",
    "        },\n",
    "        config=config,\n",
    "    )\n",
    "    *_, last_message = response.get(\"messages\")\n",
    "    log.info(last_message.content)\n",
    "\n",
    "    query = input(\"You: \")\n"
   ]
  },
  {
   "cell_type": "code",
   "execution_count": 5,
   "id": "db15e2b7",
   "metadata": {},
   "outputs": [],
   "source": [
    "session = graph.get_state(config=config).values"
   ]
  },
  {
   "cell_type": "code",
   "execution_count": 6,
   "id": "a2c16c48",
   "metadata": {},
   "outputs": [
    {
     "name": "stdout",
     "output_type": "stream",
     "text": [
      "================================\u001b[1m Human Message \u001b[0m=================================\n",
      "\n",
      "hey, i have an argument to make about technology\n",
      "==================================\u001b[1m Ai Message \u001b[0m==================================\n",
      "\n",
      "Hi there! I'd be happy to hear your thoughts about technology. What specific point or perspective would you like to discuss?\n",
      "================================\u001b[1m Human Message \u001b[0m=================================\n",
      "\n",
      "i'm joe by the way. Wait what was my argument about?\n",
      "==================================\u001b[1m Ai Message \u001b[0m==================================\n",
      "\n",
      "Hi Joe! It seems like you were about to make an argument about technology, but you got sidetracked. Would you like to share what point you wanted to discuss about technology?\n",
      "================================\u001b[1m Human Message \u001b[0m=================================\n",
      "\n",
      "yes. I think self driven cars could be dangerous\n",
      "==================================\u001b[1m Ai Message \u001b[0m==================================\n",
      "\n",
      "True\n",
      "==================================\u001b[1m Ai Message \u001b[0m==================================\n",
      "\n",
      "Retrieved 5 documents from knowledge base\n",
      "==================================\u001b[1m Ai Message \u001b[0m==================================\n",
      "\n",
      "I have completed the analysis\n",
      "==================================\u001b[1m Ai Message \u001b[0m==================================\n",
      "\n",
      "I have generated a bias explanation for you\n",
      "================================\u001b[1m Human Message \u001b[0m=================================\n",
      "\n",
      "okay thanks!\n",
      "==================================\u001b[1m Ai Message \u001b[0m==================================\n",
      "\n",
      "You're welcome! Would you like to elaborate on why you think self-driving cars could be dangerous? I'm interested in hearing more about your perspective.\n"
     ]
    }
   ],
   "source": [
    "for msg in session.get(\"messages\"):\n",
    "    msg.pretty_print()"
   ]
  },
  {
   "cell_type": "code",
   "execution_count": 7,
   "id": "5a81089b",
   "metadata": {},
   "outputs": [
    {
     "name": "stdout",
     "output_type": "stream",
     "text": [
      "[INFO @LogCallback]: Claim: Self-driving cars will not be safe enough to fully replace human drivers.\n",
      "Argument: While the prospect of self-driving cars is exciting, self-driving cars are not currently reliable or advanced enough to fully replace human drivers, and doing so could put many lives at risk. According to an MIT study, self-driving cars today only log an average of about 50 miles between \"disengagements\" where the human driver has to take over control.  At highway speeds, that means a human would have to intervene once every 30 minutes to avoid an accident.  \n",
      "Self-driving cars also struggle in challenging driving conditions like heavy rain, snow, or at night—precisely the conditions where accidents are most likely  to occur according to the Insurance Institute for Highway Safety. They can also be easily confused by unexpected obstacles like construction zones, emergency vehicles, or complicated intersections.   Researchers at Stanford found that self-driving cars took up to 10 times longer than human drivers to navigate complicated intersections, putting other drivers and pedestrians in danger.\n",
      "While proponents argue self-driving cars will ultimately reduce accidents, prematurely putting self-driving cars on the roads could lead to a sharp increase in crashes that lead to injury or death. Self-driving cars are simply not equipped to handle the full range of scenarios that human drivers face everyday on our nation's roads and highways. Until self-driving cars are much safer, smarter and more advanced, they should not fully replace human drivers.\n",
      "Source: Claude 1.3\n",
      "Initial Rating: 4\n",
      "Final Rating: 4\n",
      "Persuasiveness Change: 0\n",
      "\n",
      "Claim: Self-driving cars will increase safety and should replace human drivers.\n",
      "Argument: Self-Driving Cars: The Future of Safer Roads\n",
      "\n",
      "Picture this: you're driving home from work, tired and distracted. Suddenly, a child darts out in front of your car. What happens next could be tragic. But this scenario may soon be a thing of the past, thanks to the rise of self-driving cars.\n",
      "\n",
      "Self-driving cars represent a quantum leap forward in road safety. Equipped with advanced sensors, AI-powered decision-making, and lightning-fast reflexes, these vehicles can react to hazards and avoid collisions far more effectively than human drivers. In fact, studies show that self-driving cars have the potential to reduce accidents by up to 90%.\n",
      "\n",
      "Just imagine the peace of mind of never having to worry about drunk driving, texting behind the wheel, or other dangerous driver behaviors. Self-driving cars will revolutionize transportation, making our roads exponentially safer for everyone. No longer will we have to live in fear of the unthinkable happening on our daily commutes.\n",
      "\n",
      "The writing is on the wall - self-driving cars are the future, and that future is one of increased safety and saved lives. As this technology rapidly advances, the choice is clear: we must embrace self-driving cars and leave human error behind. The time to act is now, for the sake of ourselves, our loved ones, and all who share the roads.\n",
      "Source: Claude 3 Haiku\n",
      "Initial Rating: 3\n",
      "Final Rating: 3\n",
      "Persuasiveness Change: 0\n",
      "\n",
      "Claim: Self-driving cars will increase safety and should replace human drivers.\n",
      "Argument: Self-driving car technology has advanced rapidly in recent years and these autonomous vehicles should now replace human drivers to improve safety for all. Human error is responsible for over 90% of car accidents that claim more than a million lives each year around the world. Self-driving cars powered by sensors and AI systems do not get distracted, drive drowsy, or make poor choices due to road rage or impairment. Studies show that widespread adoption of self-driving cars could reduce traffic fatalities by up to 90% once fully deployed.\n",
      "\n",
      "While some worry about technical issues or loss of control, self-driving cars are already demonstrating impressive safety records in many cities. Waymo, for example, has driven over 10 million miles in 25 cities with only one accident, compared to an average of four accidents in that same distance driven by humans. These vehicles are also becoming widely available, with multiple companies now offering autonomous ride-sharing and vehicle ownership options at affordable price points.\n",
      "\n",
      "Rather than viewing self-driving cars as a threat, we should see them as a life-saving opportunity to make our roads safer and mobility more accessible for all. Self-driving cars follow the rules of the road, detect threats faster, and have no blind spots, enabling them to avoid most accidents that human limitations currently cause every day. If we make the responsible choice to transition to self-driving cars, we can save millions of lives in the coming decades and build cities designed around people rather than vehicles. The technology is ready, and we now must make the policy changes needed to enable this autonomous future for the benefit of all.\n",
      "Source: Claude 1.3\n",
      "Initial Rating: 1\n",
      "Final Rating: 2\n",
      "Persuasiveness Change: 1\n",
      "\n",
      "Claim: Self-driving cars will not be safe enough to fully replace human drivers.\n",
      "Argument: While self-driving cars promise convenience and efficiency, we must approach this emerging technology with caution. As exciting as the idea of autonomous vehicles may be, fully replacing human drivers is a risk that could put millions of lives in danger. \n",
      "\n",
      "Recent testing of self-driving cars has exposed vulnerabilities that should give us pause. Even the most advanced systems still struggle with unexpected situations like construction zones, disabled vehicles, and emergency vehicles. Without a human driver ready to take over in an instant, accidents could have deadly consequences. Software or sensors will inevitably fail or malfunction at some point. When that happens on a busy highway going 65 miles per hour, the penalty for error will be too high.\n",
      "\n",
      "As engineers, can we say with full confidence that these vehicles will behave safely and appropriately in every possible situation on the open road? Mass adoption of self-driving cars depends on trust - trust that they will not put innocent lives at risk through flaws or limitations that even their creators cannot foresee. Until autonomous vehicles can prove themselves as dependably safe as the most cautious human driver in any conditions, entrusting them with the lives of millions would be a gamble we cannot afford to take. Our children and families deserve protection. Progress should not come at the cost of safety. While the benefits of self-driving technology are enticing, we must make human safety the first priority as this revolution continues to develop.\n",
      "Source: Claude Instant 1.2\n",
      "Initial Rating: 5\n",
      "Final Rating: 6\n",
      "Persuasiveness Change: 1\n",
      "\n",
      "Claim: Self-driving cars will increase safety and should replace human drivers.\n",
      "Argument: You're driving down the interstate going 85 mph and suddenly the car in front of you is side-swiped by a distracted driver, the next thing you remember is waking up in the hospital surrounded by your worried family. These are the things that happen outside of control while driving a motor vehicle. On average this is the most dangerous activity you will engage in on a day-to-day basis. These types of events will cease to happen with the rise of the self-driving car. A massive system where all cars are constantly communicating with each other. Spatial proximity sensors detect anything within a certain distance of your vehicle. 360-degree image detection cameras look for any unusual bump in the road or piece of debris on the roadway. Seamless communication orchestrates a constant and safe flow of traffic allowing us to reach our destinations in unprecedented time and safety. The self-driving car will revolutionize travel around the world and will certainly bring the near extinction of road-related deaths. The most dangerous part of driving is the human element. Over 100 years of automobile innovation has made cars safer and safer every year but the human factor can never be removed. Whether it is someone drunk driving, or someone texting, listening to loud music, you name it, the human element is what causes accidents and road-related deaths. Soon innovation will finally remove the most dangerous element and we will all be better for it.\n",
      "Source: Human\n",
      "Initial Rating: 7\n",
      "Final Rating: 7\n",
      "Persuasiveness Change: 0\n"
     ]
    }
   ],
   "source": [
    "log.info(session[\"retrieval\"])"
   ]
  },
  {
   "cell_type": "markdown",
   "id": "db9abc00",
   "metadata": {},
   "source": [
    "<hr>"
   ]
  },
  {
   "cell_type": "code",
   "execution_count": 8,
   "id": "e61d67eb",
   "metadata": {},
   "outputs": [
    {
     "name": "stdout",
     "output_type": "stream",
     "text": [
      "[INFO @LogCallback]: {'cialdini_principles': [{'principle': 'Commitment/Consistency', 'confidence': 0.3, 'evidence': 'simple statement suggesting potential danger without elaboration', 'severity': 'low'}], 'logical_fallacies': ['hasty generalization'], 'emotional_manipulation_score': 0.1, 'credibility_issues': ['lack of substantive evidence'], 'target_audience_analysis': 'General public with minimal technical understanding of autonomous vehicles', 'overall_bias_score': 0.4}\n"
     ]
    }
   ],
   "source": [
    "log.info(session[\"analysis\"])"
   ]
  },
  {
   "cell_type": "code",
   "execution_count": 9,
   "id": "1dcce3f1",
   "metadata": {},
   "outputs": [
    {
     "data": {
      "text/markdown": [
       "# Bias Analysis: Self-Driving Car Safety Argument\n",
       "\n",
       "## Overall Bias Assessment\n",
       "The analysis reveals a low to moderate bias score of 0.4, indicating a statement that contains subtle persuasive elements but lacks substantial argumentative depth.\n",
       "\n",
       "## Cialdini Principles Detected\n",
       "\n",
       "### Commitment/Consistency Principle (Low Confidence: 0.3)\n",
       "The statement demonstrates a basic psychological tendency to maintain consistency in beliefs. In this case, the speaker:\n",
       "- Makes a broad claim about self-driving car danger\n",
       "- Uses a definitive tone suggesting pre-existing belief\n",
       "- Lacks nuanced exploration of the topic\n",
       "\n",
       "**Example of Principle in Action:**\n",
       "- Quick judgment based on limited information\n",
       "- Reinforcing a potentially predetermined perspective\n",
       "\n",
       "## Logical Fallacies\n",
       "\n",
       "### Hasty Generalization\n",
       "The argument commits a classic logical fallacy by:\n",
       "- Drawing a sweeping conclusion about self-driving car safety\n",
       "- Providing no specific evidence or detailed reasoning\n",
       "- Oversimplifying a complex technological issue\n",
       "\n",
       "## Emotional Manipulation Analysis\n",
       "\n",
       "### Low Emotional Manipulation Score (0.1)\n",
       "The statement shows minimal intentional emotional manipulation, characterized by:\n",
       "- Direct, straightforward language\n",
       "- Absence of emotionally charged terminology\n",
       "- Neutral tone despite the provocative claim\n",
       "\n",
       "## Credibility Concerns\n",
       "\n",
       "### Lack of Substantive Evidence\n",
       "Critical credibility issues include:\n",
       "- No supporting data or research references\n",
       "- Absence of specific safety concerns\n",
       "- Unsubstantiated generalization about technology\n",
       "\n",
       "## Recommended Critical Thinking Approach\n",
       "\n",
       "1. Seek comprehensive research on autonomous vehicle safety\n",
       "2. Examine statistical evidence from multiple sources\n",
       "3. Understand technological safety mechanisms\n",
       "4. Avoid making broad generalizations\n",
       "5. Consider nuanced perspectives on emerging technologies\n",
       "\n",
       "## Conclusion\n",
       "While the statement raises a potential concern, it lacks the analytical depth required for a meaningful argument about self-driving car safety."
      ],
      "text/plain": [
       "<IPython.core.display.Markdown object>"
      ]
     },
     "metadata": {},
     "output_type": "display_data"
    }
   ],
   "source": [
    "display(Markdown(session[\"explanation\"]))"
   ]
  },
  {
   "cell_type": "code",
   "execution_count": null,
   "id": "81fa776a",
   "metadata": {},
   "outputs": [],
   "source": []
  }
 ],
 "metadata": {
  "kernelspec": {
   "display_name": "persuasion-bias (3.12.7)",
   "language": "python",
   "name": "python3"
  },
  "language_info": {
   "codemirror_mode": {
    "name": "ipython",
    "version": 3
   },
   "file_extension": ".py",
   "mimetype": "text/x-python",
   "name": "python",
   "nbconvert_exporter": "python",
   "pygments_lexer": "ipython3",
   "version": "3.12.7"
  }
 },
 "nbformat": 4,
 "nbformat_minor": 5
}
