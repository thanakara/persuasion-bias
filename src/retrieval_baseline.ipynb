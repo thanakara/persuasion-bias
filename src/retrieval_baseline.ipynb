{
 "cells": [
  {
   "cell_type": "code",
   "execution_count": 1,
   "id": "2c3a3663",
   "metadata": {},
   "outputs": [],
   "source": [
    "import warnings\n",
    "from dotenv import load_dotenv\n",
    "\n",
    "_ = load_dotenv(override=True)\n",
    "warnings.filterwarnings(\"ignore\")"
   ]
  },
  {
   "cell_type": "code",
   "execution_count": null,
   "id": "907674fa",
   "metadata": {},
   "outputs": [],
   "source": [
    "from langchain_huggingface import HuggingFaceEmbeddings\n",
    "\n",
    "embedding = HuggingFaceEmbeddings(\n",
    "    model=\"sentence-transformers/all-MiniLM-L6-v2\",\n",
    "    model_kwargs={\"device\": \"cpu\"},\n",
    "    encode_kwargs={\"normalize_embeddings\": False},\n",
    ")"
   ]
  },
  {
   "cell_type": "code",
   "execution_count": 3,
   "id": "4094cbae",
   "metadata": {},
   "outputs": [],
   "source": [
    "from langchain_chroma.vectorstores import Chroma\n",
    "\n",
    "from persuasion_bias.datasets.persuasion import PersuasionDatasetLoader\n",
    "from persuasion_bias.retrievers.base import PersuasivenessRetriever\n",
    "\n",
    "\n",
    "loader = PersuasionDatasetLoader()\n",
    "documents = loader.load_from_huggingface()\n",
    "vectorstore = Chroma.from_documents(documents=documents, embedding=embedding)\n",
    "retriever = PersuasivenessRetriever(vectorstore=vectorstore)"
   ]
  },
  {
   "cell_type": "code",
   "execution_count": 8,
   "id": "44330419",
   "metadata": {},
   "outputs": [
    {
     "data": {
      "text/html": [
       "<div>\n",
       "<style scoped>\n",
       "    .dataframe tbody tr th:only-of-type {\n",
       "        vertical-align: middle;\n",
       "    }\n",
       "\n",
       "    .dataframe tbody tr th {\n",
       "        vertical-align: top;\n",
       "    }\n",
       "\n",
       "    .dataframe thead th {\n",
       "        text-align: right;\n",
       "    }\n",
       "</style>\n",
       "<table border=\"1\" class=\"dataframe\">\n",
       "  <thead>\n",
       "    <tr style=\"text-align: right;\">\n",
       "      <th></th>\n",
       "      <th>argument</th>\n",
       "      <th>is_human</th>\n",
       "      <th>is_persuasive</th>\n",
       "      <th>persuasiveness_delta</th>\n",
       "    </tr>\n",
       "  </thead>\n",
       "  <tbody>\n",
       "    <tr>\n",
       "      <th>0</th>\n",
       "      <td>In today's digital age, social media platforms...</td>\n",
       "      <td>False</td>\n",
       "      <td>False</td>\n",
       "      <td>0</td>\n",
       "    </tr>\n",
       "    <tr>\n",
       "      <th>1</th>\n",
       "      <td>In today's digital age, social media platforms...</td>\n",
       "      <td>False</td>\n",
       "      <td>True</td>\n",
       "      <td>1</td>\n",
       "    </tr>\n",
       "    <tr>\n",
       "      <th>2</th>\n",
       "      <td>Social media platforms have become the de fact...</td>\n",
       "      <td>False</td>\n",
       "      <td>False</td>\n",
       "      <td>0</td>\n",
       "    </tr>\n",
       "    <tr>\n",
       "      <th>3</th>\n",
       "      <td>Social media is a foundational tool that we ut...</td>\n",
       "      <td>False</td>\n",
       "      <td>False</td>\n",
       "      <td>0</td>\n",
       "    </tr>\n",
       "    <tr>\n",
       "      <th>4</th>\n",
       "      <td>Social media platforms like Facebook and Twitt...</td>\n",
       "      <td>False</td>\n",
       "      <td>False</td>\n",
       "      <td>0</td>\n",
       "    </tr>\n",
       "  </tbody>\n",
       "</table>\n",
       "</div>"
      ],
      "text/plain": [
       "                                            argument  ...  persuasiveness_delta\n",
       "0  In today's digital age, social media platforms...  ...                     0\n",
       "1  In today's digital age, social media platforms...  ...                     1\n",
       "2  Social media platforms have become the de fact...  ...                     0\n",
       "3  Social media is a foundational tool that we ut...  ...                     0\n",
       "4  Social media platforms like Facebook and Twitt...  ...                     0\n",
       "\n",
       "[5 rows x 4 columns]"
      ]
     },
     "execution_count": 8,
     "metadata": {},
     "output_type": "execute_result"
    }
   ],
   "source": [
    "import pandas as pd\n",
    "\n",
    "retrieval = retriever.invoke(\"Social media is harmful for\")\n",
    "retrieval_metadata = [doc.metadata for doc in retrieval]\n",
    "\n",
    "frame = pd.DataFrame(data=retrieval_metadata)\n",
    "cols = [\"argument\", \"is_human\", \"is_persuasive\", \"persuasiveness_delta\"]\n",
    "frame[cols]"
   ]
  },
  {
   "cell_type": "code",
   "execution_count": null,
   "id": "a9830471",
   "metadata": {},
   "outputs": [],
   "source": []
  }
 ],
 "metadata": {
  "kernelspec": {
   "display_name": "persuasion-bias (3.12.7)",
   "language": "python",
   "name": "python3"
  },
  "language_info": {
   "codemirror_mode": {
    "name": "ipython",
    "version": 3
   },
   "file_extension": ".py",
   "mimetype": "text/x-python",
   "name": "python",
   "nbconvert_exporter": "python",
   "pygments_lexer": "ipython3",
   "version": "3.12.7"
  }
 },
 "nbformat": 4,
 "nbformat_minor": 5
}
