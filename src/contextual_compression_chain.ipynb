{
 "cells": [
  {
   "cell_type": "code",
   "execution_count": 1,
   "id": "dc1cecb4",
   "metadata": {},
   "outputs": [],
   "source": [
    "import warnings\n",
    "from dotenv import load_dotenv\n",
    "from pathlib import Path\n",
    "from persuasion_bias.config.logging import SimpleLogger\n",
    "\n",
    "\n",
    "warnings.filterwarnings(\"ignore\")\n",
    "_ = load_dotenv(override=True)\n",
    "\n",
    "config_file = Path.cwd() / \"persuasion_bias\" / \"config\" / \"log-config.yaml\"\n",
    "logger = SimpleLogger(name=__name__)\n",
    "logger.reconfigure_from_file(config_file=config_file)\n",
    "log = logger.logger"
   ]
  },
  {
   "cell_type": "code",
   "execution_count": 2,
   "id": "e400ef70",
   "metadata": {},
   "outputs": [
    {
     "name": "stdout",
     "output_type": "stream",
     "text": [
      "[ERROR]: You cannot set both `repo_id` and `use_anthropic=True`.\n"
     ]
    },
    {
     "ename": "ValueError",
     "evalue": "You cannot set both `repo_id` and `use_anthropic=True`.",
     "output_type": "error",
     "traceback": [
      "\u001b[31m---------------------------------------------------------------------------\u001b[39m",
      "\u001b[31mValueError\u001b[39m                                Traceback (most recent call last)",
      "\u001b[36mCell\u001b[39m\u001b[36m \u001b[39m\u001b[32mIn[2]\u001b[39m\u001b[32m, line 4\u001b[39m\n\u001b[32m      1\u001b[39m \u001b[38;5;28;01mfrom\u001b[39;00m\u001b[38;5;250m \u001b[39m\u001b[34;01mpersuasion_bias\u001b[39;00m\u001b[34;01m.\u001b[39;00m\u001b[34;01mrag\u001b[39;00m\u001b[34;01m.\u001b[39;00m\u001b[34;01mchains\u001b[39;00m\u001b[38;5;250m \u001b[39m\u001b[38;5;28;01mimport\u001b[39;00m CompressionRAGChain\n\u001b[32m----> \u001b[39m\u001b[32m4\u001b[39m compressionRAG = \u001b[43mCompressionRAGChain\u001b[49m\u001b[43m(\u001b[49m\n\u001b[32m      5\u001b[39m \u001b[43m    \u001b[49m\u001b[43mlog\u001b[49m\u001b[43m=\u001b[49m\u001b[43mlog\u001b[49m\u001b[43m,\u001b[49m\u001b[43m \u001b[49m\u001b[43mrepo_id\u001b[49m\u001b[43m=\u001b[49m\u001b[33;43m\"\u001b[39;49m\u001b[33;43mmeta-llama/Llama-3.2-3B-Instruct\u001b[39;49m\u001b[33;43m\"\u001b[39;49m\u001b[43m,\u001b[49m\u001b[43m \u001b[49m\u001b[43muse_anthropic\u001b[49m\u001b[43m=\u001b[49m\u001b[38;5;28;43;01mTrue\u001b[39;49;00m\n\u001b[32m      6\u001b[39m \u001b[43m)\u001b[49m\n",
      "\u001b[36mFile \u001b[39m\u001b[32mc:\\Users\\thank\\Desktop\\persuasion-bias\\src\\persuasion_bias\\rag\\chains.py:164\u001b[39m, in \u001b[36mCompressionRAGChain.__init__\u001b[39m\u001b[34m(self, log, repo_id, vectorstore, use_anthropic, documents, retriever)\u001b[39m\n\u001b[32m    162\u001b[39m     error_msg = \u001b[33m\"\u001b[39m\u001b[33mYou cannot set both `repo_id` and `use_anthropic=True`.\u001b[39m\u001b[33m\"\u001b[39m\n\u001b[32m    163\u001b[39m     \u001b[38;5;28mself\u001b[39m.log.error(error_msg)\n\u001b[32m--> \u001b[39m\u001b[32m164\u001b[39m     \u001b[38;5;28;01mraise\u001b[39;00m \u001b[38;5;167;01mValueError\u001b[39;00m(error_msg)\n\u001b[32m    166\u001b[39m \u001b[38;5;28;01mif\u001b[39;00m repo_id:\n\u001b[32m    167\u001b[39m     use_anthropic = \u001b[38;5;28;01mFalse\u001b[39;00m\n",
      "\u001b[31mValueError\u001b[39m: You cannot set both `repo_id` and `use_anthropic=True`."
     ]
    }
   ],
   "source": [
    "from persuasion_bias.rag.chains import CompressionRAGChain\n",
    "\n",
    "\n",
    "compressionRAG = CompressionRAGChain(\n",
    "    log=log, repo_id=\"meta-llama/Llama-3.2-3B-Instruct\", use_anthropic=True\n",
    ")"
   ]
  },
  {
   "cell_type": "code",
   "execution_count": 3,
   "id": "af650560",
   "metadata": {},
   "outputs": [
    {
     "name": "stdout",
     "output_type": "stream",
     "text": [
      "[INFO]: Using HuggingFace model: meta-llama/Llama-3.2-3B-Instruct\n",
      "[INFO]: \n",
      "    +---------------------------------------------------------------+\n",
      "    | One-turn RAG runnable with contextual compression retrieval.  |\n",
      "    | Optionally selects:                                           |\n",
      "    |       - Claude 3.5 Haiku                                      |\n",
      "    |       - similarity_threshold for relevance filtering          |\n",
      "    +---------------------------------------------------------------+\n",
      "    \n"
     ]
    }
   ],
   "source": [
    "compressionRAG = CompressionRAGChain(\n",
    "    log=log, repo_id=\"meta-llama/Llama-3.2-3B-Instruct\"\n",
    ")\n",
    "\n",
    "log.info(compressionRAG.__doc__)"
   ]
  },
  {
   "cell_type": "code",
   "execution_count": 4,
   "id": "e7edfe91",
   "metadata": {},
   "outputs": [
    {
     "name": "stdout",
     "output_type": "stream",
     "text": [
      "[INFO]: Creating contextual compression retriever\n",
      "[INFO]: Load pretrained SentenceTransformer: sentence-transformers/all-MiniLM-L6-v2\n",
      "[INFO]: Anonymized telemetry enabled. See                     https://docs.trychroma.com/telemetry for more information.\n",
      "[INFO]: Retriever created and cached\n"
     ]
    }
   ],
   "source": [
    "compression_retriever = compressionRAG._get_contextual_compression_retriever(\n",
    "    similarity_threshold=0.45\n",
    ")\n",
    "compressionRAG._retriever = compression_retriever\n",
    "\n",
    "runnable_seq = compressionRAG.create_runnable_sequence()"
   ]
  },
  {
   "cell_type": "code",
   "execution_count": 5,
   "id": "c8cc5c84",
   "metadata": {},
   "outputs": [],
   "source": [
    "from IPython.display import display, Markdown\n",
    "from functools import lru_cache\n",
    "\n",
    "\n",
    "@lru_cache(maxsize=16)\n",
    "def argue(argument: str) -> None:\n",
    "    \"\"\"Invoke the Runnable; Markdown display\"\"\"\n",
    "\n",
    "    log.info(\"Invoking the model\\n\")\n",
    "    try:\n",
    "        response = runnable_seq.invoke(argument)\n",
    "        display(Markdown(response))\n",
    "    except Exception as e:\n",
    "        log.exception(e)"
   ]
  },
  {
   "cell_type": "code",
   "execution_count": 6,
   "id": "6491d1be",
   "metadata": {},
   "outputs": [
    {
     "name": "stdout",
     "output_type": "stream",
     "text": [
      "[INFO]: Invoking the model\n",
      "\n"
     ]
    },
    {
     "data": {
      "text/markdown": [
       "A strong statement! Let's analyze the argument for and against the claim that social media is harmful for youth.\n",
       "\n",
       "**Argument For:**\n",
       "\n",
       "1. **Addiction**: Social media can be addictive, leading to excessive screen time, decreased attention span, and negative impacts on mental health.\n",
       "2. **Comparison and low self-esteem**: Social media platforms showcase curated and unrealistic content, promoting comparison and low self-esteem among young people.\n",
       "3. **Cyberbullying and online harassment**: Social media can be a breeding ground for bullying, harassment, and online abuse, which can have severe consequences for mental health.\n",
       "4. **Sleep deprivation**: Exposure to screens and the constant notifications from social media can disrupt sleep patterns, leading to sleep deprivation and related issues.\n",
       "\n",
       "**Argument Against:**\n",
       "\n",
       "1. **Social media as a tool for connection**: Social media can provide a sense of connection and community for young people, especially those who may be isolated or have difficulty forming relationships in person.\n",
       "2. **Access to information and resources**: Social media can be a valuable resource for learning, with many educational and informative content available online.\n",
       "3. **Self-expression and creativity**: Social media platforms can provide a space for young people to express themselves, share their creativity, and showcase their talents.\n",
       "4. **Mental health benefits**: Social media can also have mental health benefits, such as providing a sense of belonging, reducing feelings of loneliness, and offering support from online communities.\n",
       "\n",
       "**Bias Detection and Rating**\n",
       "\n",
       "After analyzing the arguments, I would rate the bias in the claim that social media is harmful for youth as follows:\n",
       "\n",
       "* **Argument For**: 6/10 (while there are valid concerns about the negative impacts of social media, the arguments are not entirely convincing and may be exaggerated)\n",
       "* **Argument Against**: 7/10 (the counterarguments are well-reasoned and acknowledge the potential benefits of social media, but may be slightly biased towards a more positive view)\n",
       "\n",
       "Overall, I would rate the bias in the claim as 5.5/10, indicating that while there are valid concerns about the negative impacts of social media, the arguments are not entirely balanced and may be influenced by a more negative or alarmist tone.\n",
       "\n",
       "**Persuasiveness**\n",
       "\n",
       "The persuasiveness of the claim depends on the audience and the context. If the audience is primarily concerned about the negative impacts of social media on youth, the argument may be convincing. However, if the audience is more open to considering the potential benefits of social media, the counterarguments may be more persuasive."
      ],
      "text/plain": [
       "<IPython.core.display.Markdown object>"
      ]
     },
     "metadata": {},
     "output_type": "display_data"
    }
   ],
   "source": [
    "argue(argument=\"Social media is harmful for the youth.\")"
   ]
  },
  {
   "cell_type": "code",
   "execution_count": null,
   "id": "d8061069",
   "metadata": {},
   "outputs": [],
   "source": []
  }
 ],
 "metadata": {
  "kernelspec": {
   "display_name": "persuasion-bias (3.12.7)",
   "language": "python",
   "name": "python3"
  },
  "language_info": {
   "codemirror_mode": {
    "name": "ipython",
    "version": 3
   },
   "file_extension": ".py",
   "mimetype": "text/x-python",
   "name": "python",
   "nbconvert_exporter": "python",
   "pygments_lexer": "ipython3",
   "version": "3.12.7"
  }
 },
 "nbformat": 4,
 "nbformat_minor": 5
}
