{
 "cells": [
  {
   "cell_type": "code",
   "execution_count": null,
   "id": "dc1cecb4",
   "metadata": {},
   "outputs": [],
   "source": [
    "import warnings\n",
    "\n",
    "from pathlib import Path\n",
    "from dotenv import load_dotenv\n",
    "from functools import lru_cache\n",
    "from IPython.display import display, Markdown\n",
    "\n",
    "from persuasion_bias.config.logging import SimpleLogger\n",
    "from persuasion_bias.rag.chains import CompressionRAGChain\n",
    "\n",
    "\n",
    "warnings.filterwarnings(\"ignore\")\n",
    "_ = load_dotenv(override=True)\n",
    "\n",
    "config_file = Path(\"persuasion_bias\") / \"config\" / \"log-config.yaml\"\n",
    "logger = SimpleLogger(name=__name__)\n",
    "logger.reconfigure_from_file(config_file=config_file)\n",
    "log = logger.logger"
   ]
  },
  {
   "cell_type": "code",
   "execution_count": 3,
   "id": "e400ef70",
   "metadata": {},
   "outputs": [
    {
     "name": "stdout",
     "output_type": "stream",
     "text": [
      "[ERROR]: You must specify either `repo_id` or set `use_anthropic`.\n"
     ]
    },
    {
     "name": "stderr",
     "output_type": "stream",
     "text": [
      "[STDERR: ERROR 2025-09-11 13:49:22,603 chains.py:168]\n"
     ]
    },
    {
     "ename": "ValueError",
     "evalue": "You must specify either `repo_id` or set `use_anthropic`.",
     "output_type": "error",
     "traceback": [
      "\u001b[31m---------------------------------------------------------------------------\u001b[39m",
      "\u001b[31mValueError\u001b[39m                                Traceback (most recent call last)",
      "\u001b[36mCell\u001b[39m\u001b[36m \u001b[39m\u001b[32mIn[3]\u001b[39m\u001b[32m, line 1\u001b[39m\n\u001b[32m----> \u001b[39m\u001b[32m1\u001b[39m compressionRAG = \u001b[43mCompressionRAGChain\u001b[49m\u001b[43m(\u001b[49m\u001b[43mlog\u001b[49m\u001b[43m=\u001b[49m\u001b[43mlog\u001b[49m\u001b[43m)\u001b[49m\n",
      "\u001b[36mFile \u001b[39m\u001b[32mc:\\Users\\thank\\Desktop\\persuasion-bias\\src\\persuasion_bias\\rag\\chains.py:169\u001b[39m, in \u001b[36mCompressionRAGChain.__init__\u001b[39m\u001b[34m(self, log, repo_id, vectorstore, use_anthropic, retriever)\u001b[39m\n\u001b[32m    167\u001b[39m     error_msg = \u001b[33m\"\u001b[39m\u001b[33mYou must specify either `repo_id` or set `use_anthropic`.\u001b[39m\u001b[33m\"\u001b[39m\n\u001b[32m    168\u001b[39m     \u001b[38;5;28mself\u001b[39m.log.error(error_msg)\n\u001b[32m--> \u001b[39m\u001b[32m169\u001b[39m     \u001b[38;5;28;01mraise\u001b[39;00m \u001b[38;5;167;01mValueError\u001b[39;00m(error_msg)\n\u001b[32m    171\u001b[39m \u001b[38;5;28mself\u001b[39m.vectorstore = vectorstore\n\u001b[32m    172\u001b[39m \u001b[38;5;28mself\u001b[39m._retriever = retriever\n",
      "\u001b[31mValueError\u001b[39m: You must specify either `repo_id` or set `use_anthropic`."
     ]
    }
   ],
   "source": [
    "compressionRAG = CompressionRAGChain(log=log)"
   ]
  },
  {
   "cell_type": "code",
   "execution_count": 4,
   "id": "af650560",
   "metadata": {},
   "outputs": [
    {
     "name": "stdout",
     "output_type": "stream",
     "text": [
      "[INFO]: Using Anthropic model: claude-3-5-haiku-20241022\n",
      "[INFO]: \n",
      "    +---------------------------------------------------------------+\n",
      "    | One-turn RAG runnable with contextual compression retrieval.  |\n",
      "    | Optionally selects:                                           |\n",
      "    |       - Claude 3.5 Haiku                                      |\n",
      "    |       - similarity_threshold for relevance filtering          |\n",
      "    +---------------------------------------------------------------+\n",
      "    \n"
     ]
    }
   ],
   "source": [
    "compressionRAG = CompressionRAGChain(log=log, use_anthropic=True)\n",
    "\n",
    "log.info(compressionRAG.__doc__)"
   ]
  },
  {
   "cell_type": "code",
   "execution_count": 5,
   "id": "e7edfe91",
   "metadata": {},
   "outputs": [
    {
     "name": "stdout",
     "output_type": "stream",
     "text": [
      "[INFO]: Creating contextual compression retriever\n",
      "[INFO]: Load pretrained SentenceTransformer: sentence-transformers/all-MiniLM-L6-v2\n",
      "[INFO]: Anonymized telemetry enabled. See                     https://docs.trychroma.com/telemetry for more information.\n",
      "[INFO]: Retriever created and cached\n"
     ]
    }
   ],
   "source": [
    "compression_retriever = compressionRAG._get_contextual_compression_retriever(similarity_threshold=0.45)\n",
    "compressionRAG._retriever = compression_retriever\n",
    "\n",
    "runnable_seq = compressionRAG.create_runnable_sequence()"
   ]
  },
  {
   "cell_type": "code",
   "execution_count": 6,
   "id": "c8cc5c84",
   "metadata": {},
   "outputs": [],
   "source": [
    "@lru_cache(maxsize=16)\n",
    "def argue(argument: str) -> None:\n",
    "    \"\"\"Invoke runnable sequence -  Markdown display\"\"\"\n",
    "\n",
    "    log.info(\"Invoking the model\\n\")\n",
    "    try:\n",
    "        response = runnable_seq.invoke(argument)\n",
    "        display(Markdown(response))\n",
    "    except Exception as e:\n",
    "        log.exception(e)"
   ]
  },
  {
   "cell_type": "code",
   "execution_count": 7,
   "id": "6491d1be",
   "metadata": {},
   "outputs": [
    {
     "name": "stdout",
     "output_type": "stream",
     "text": [
      "[INFO]: Invoking the model\n",
      "\n",
      "[INFO]: HTTP Request: POST https://api.anthropic.com/v1/messages \"HTTP/1.1 200 OK\"\n"
     ]
    },
    {
     "data": {
      "text/markdown": [
       "## Argument Analysis: Social Media's Impact on Youth\n",
       "\n",
       "### Bias Detection\n",
       "- **Bias Score**: 7/10 (High potential for bias)\n",
       "- **Persuasiveness**: Moderate\n",
       "\n",
       "### Key Arguments Against Social Media for Youth\n",
       "\n",
       "1. **Psychological Impact**\n",
       "   - Increases anxiety and depression\n",
       "   - Promotes unrealistic social comparisons\n",
       "   - Damages self-esteem\n",
       "\n",
       "2. **Developmental Concerns**\n",
       "   - Disrupts natural social skill development\n",
       "   - Reduces face-to-face interaction\n",
       "   - Potentially addictive technology\n",
       "\n",
       "3. **Evidence-Based Risks\n",
       "   - Studies show correlation with:\n",
       "     * Mental health issues\n",
       "     * Decreased attention spans\n",
       "     * Reduced academic performance\n",
       "\n",
       "### Counterarguments\n",
       "\n",
       "1. Digital literacy is crucial\n",
       "2. Social connections can be beneficial\n",
       "3. Moderation and parental guidance are key\n",
       "\n",
       "### Recommendation\n",
       "- Implement structured, supervised digital engagement\n",
       "- Focus on education about responsible technology use\n",
       "- Prioritize mental health monitoring\n",
       "\n",
       "### Conclusion\n",
       "While risks exist, a nuanced approach is more effective than outright banning."
      ],
      "text/plain": [
       "<IPython.core.display.Markdown object>"
      ]
     },
     "metadata": {},
     "output_type": "display_data"
    }
   ],
   "source": [
    "argue(argument=\"Social media is harmful for the youth.\")"
   ]
  },
  {
   "cell_type": "code",
   "execution_count": null,
   "id": "d8061069",
   "metadata": {},
   "outputs": [],
   "source": []
  }
 ],
 "metadata": {
  "kernelspec": {
   "display_name": "persuasion-bias (3.12.7)",
   "language": "python",
   "name": "python3"
  },
  "language_info": {
   "codemirror_mode": {
    "name": "ipython",
    "version": 3
   },
   "file_extension": ".py",
   "mimetype": "text/x-python",
   "name": "python",
   "nbconvert_exporter": "python",
   "pygments_lexer": "ipython3",
   "version": "3.12.7"
  }
 },
 "nbformat": 4,
 "nbformat_minor": 5
}
