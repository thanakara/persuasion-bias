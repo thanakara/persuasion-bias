{
 "cells": [
  {
   "cell_type": "code",
   "execution_count": 1,
   "id": "dc1cecb4",
   "metadata": {},
   "outputs": [],
   "source": [
    "import warnings\n",
    "from dotenv import load_dotenv\n",
    "from pathlib import Path\n",
    "from persuasion_bias.config.logging import SimpleLogger\n",
    "\n",
    "\n",
    "warnings.filterwarnings(\"ignore\")\n",
    "_ = load_dotenv(override=True)\n",
    "\n",
    "config_file = Path.cwd() / \"persuasion_bias\" / \"config\" / \"log-config.yaml\"\n",
    "logger = SimpleLogger(name=__name__)\n",
    "logger.configure_from_file(config_file=config_file)\n",
    "log = logger.get"
   ]
  },
  {
   "cell_type": "code",
   "execution_count": 2,
   "id": "e400ef70",
   "metadata": {},
   "outputs": [
    {
     "name": "stdout",
     "output_type": "stream",
     "text": [
      "[ERROR]: You cannot set both `repo_id` and `use_anthropic=True`.\n"
     ]
    },
    {
     "ename": "ValueError",
     "evalue": "You cannot set both `repo_id` and `use_anthropic=True`.",
     "output_type": "error",
     "traceback": [
      "\u001b[31m---------------------------------------------------------------------------\u001b[39m",
      "\u001b[31mValueError\u001b[39m                                Traceback (most recent call last)",
      "\u001b[36mCell\u001b[39m\u001b[36m \u001b[39m\u001b[32mIn[2]\u001b[39m\u001b[32m, line 4\u001b[39m\n\u001b[32m      1\u001b[39m \u001b[38;5;28;01mfrom\u001b[39;00m\u001b[38;5;250m \u001b[39m\u001b[34;01mpersuasion_bias\u001b[39;00m\u001b[34;01m.\u001b[39;00m\u001b[34;01mrag\u001b[39;00m\u001b[34;01m.\u001b[39;00m\u001b[34;01mchains\u001b[39;00m\u001b[38;5;250m \u001b[39m\u001b[38;5;28;01mimport\u001b[39;00m CompressionRAGChain\n\u001b[32m----> \u001b[39m\u001b[32m4\u001b[39m compressionRAG = \u001b[43mCompressionRAGChain\u001b[49m\u001b[43m(\u001b[49m\n\u001b[32m      5\u001b[39m \u001b[43m    \u001b[49m\u001b[43mlog\u001b[49m\u001b[43m=\u001b[49m\u001b[43mlog\u001b[49m\u001b[43m,\u001b[49m\u001b[43m \u001b[49m\u001b[43mrepo_id\u001b[49m\u001b[43m=\u001b[49m\u001b[33;43m\"\u001b[39;49m\u001b[33;43mmeta-llama/Llama-3.2-3B-Instruct\u001b[39;49m\u001b[33;43m\"\u001b[39;49m\u001b[43m,\u001b[49m\u001b[43m \u001b[49m\u001b[43muse_anthropic\u001b[49m\u001b[43m=\u001b[49m\u001b[38;5;28;43;01mTrue\u001b[39;49;00m\n\u001b[32m      6\u001b[39m \u001b[43m)\u001b[49m\n",
      "\u001b[36mFile \u001b[39m\u001b[32mc:\\Users\\thank\\Desktop\\persuasion-bias\\src\\persuasion_bias\\rag\\chains.py:164\u001b[39m, in \u001b[36mCompressionRAGChain.__init__\u001b[39m\u001b[34m(self, log, repo_id, vectorstore, use_anthropic, documents, retriever)\u001b[39m\n\u001b[32m    162\u001b[39m     error_msg = \u001b[33m\"\u001b[39m\u001b[33mYou cannot set both `repo_id` and `use_anthropic=True`.\u001b[39m\u001b[33m\"\u001b[39m\n\u001b[32m    163\u001b[39m     \u001b[38;5;28mself\u001b[39m.log.error(error_msg)\n\u001b[32m--> \u001b[39m\u001b[32m164\u001b[39m     \u001b[38;5;28;01mraise\u001b[39;00m \u001b[38;5;167;01mValueError\u001b[39;00m(error_msg)\n\u001b[32m    166\u001b[39m \u001b[38;5;28;01mif\u001b[39;00m repo_id:\n\u001b[32m    167\u001b[39m     use_anthropic = \u001b[38;5;28;01mFalse\u001b[39;00m\n",
      "\u001b[31mValueError\u001b[39m: You cannot set both `repo_id` and `use_anthropic=True`."
     ]
    }
   ],
   "source": [
    "from persuasion_bias.rag.chains import CompressionRAGChain\n",
    "\n",
    "\n",
    "compressionRAG = CompressionRAGChain(\n",
    "    log=log, repo_id=\"meta-llama/Llama-3.2-3B-Instruct\", use_anthropic=True\n",
    ")"
   ]
  },
  {
   "cell_type": "code",
   "execution_count": 3,
   "id": "af650560",
   "metadata": {},
   "outputs": [
    {
     "name": "stdout",
     "output_type": "stream",
     "text": [
      "[INFO]: Using HuggingFace model: meta-llama/Llama-3.2-3B-Instruct\n",
      "[INFO]: \n",
      "    +---------------------------------------------------------------+\n",
      "    | One-turn RAG runnable with contextual compression retrieval.  |\n",
      "    | Optionally selects:                                           |\n",
      "    |       - Claude 3.5 Haiku                                      |\n",
      "    |       - similarity_threshold for relevance filtering          |\n",
      "    +---------------------------------------------------------------+\n",
      "    \n"
     ]
    }
   ],
   "source": [
    "compressionRAG = CompressionRAGChain(\n",
    "    log=log, repo_id=\"meta-llama/Llama-3.2-3B-Instruct\"\n",
    ")\n",
    "\n",
    "log.info(compressionRAG.__doc__)"
   ]
  },
  {
   "cell_type": "code",
   "execution_count": 4,
   "id": "e7edfe91",
   "metadata": {},
   "outputs": [
    {
     "name": "stdout",
     "output_type": "stream",
     "text": [
      "[INFO]: Creating contextual compression retriever\n",
      "[INFO]: Load pretrained SentenceTransformer: sentence-transformers/all-MiniLM-L6-v2\n",
      "[INFO]: Anonymized telemetry enabled. See                     https://docs.trychroma.com/telemetry for more information.\n",
      "[INFO]: Retriever created and cached\n"
     ]
    }
   ],
   "source": [
    "compression_retriever = compressionRAG._get_contextual_compression_retriever(\n",
    "    similarity_threshold=0.45\n",
    ")\n",
    "compressionRAG._retriever = compression_retriever\n",
    "\n",
    "runnable_seq = compressionRAG.create_runnable_sequence()"
   ]
  },
  {
   "cell_type": "code",
   "execution_count": null,
   "id": "c8cc5c84",
   "metadata": {},
   "outputs": [],
   "source": [
    "from langchain_core.runnables import RunnableSequence\n",
    "from IPython.display import display, Markdown\n",
    "from functools import lru_cache\n",
    "\n",
    "\n",
    "@lru_cache(maxsize=16)\n",
    "def argue(argument: str) -> None:\n",
    "    \"\"\"\"\"\"\n",
    "\n",
    "    log.info(\"Invoking the model:\")\n",
    "    try:\n",
    "        response = runnable_seq.invoke(argument)\n",
    "        display(Markdown(response))\n",
    "    except Exception as e:\n",
    "        log.exception(e)"
   ]
  },
  {
   "cell_type": "code",
   "execution_count": 6,
   "id": "6491d1be",
   "metadata": {},
   "outputs": [
    {
     "name": "stdout",
     "output_type": "stream",
     "text": [
      "[INFO]: Invoking the model:\n"
     ]
    },
    {
     "data": {
      "text/markdown": [
       "To detect bias in the argument and rate its persuasiveness, let's analyze the provided text.\n",
       "\n",
       "**Bias Detection:**\n",
       "The argument presented is based on the claim that social media is harmful for youth. The text cites various studies and statistics to support this claim, including the potential for addiction, social comparison, and exposure to inappropriate content. However, it also acknowledges the benefits of social media, such as building community, creativity, and knowledge.\n",
       "\n",
       "**Persuasiveness Rating:**\n",
       "I would rate the persuasiveness of this argument as 6 out of 10. The argument presents a clear and well-supported claim, but it also acknowledges potential counterarguments and limitations. The use of statistics and studies adds credibility to the argument, but the text could benefit from a more nuanced discussion of the potential benefits of social media.\n",
       "\n",
       "**Reasoning:**\n",
       "The argument relies on a combination of empirical evidence and expert opinions to support its claim. The text cites studies on the effects of social media on mental health, social skills, and cognitive development. However, it also acknowledges the complexity of the issue and the need for a more balanced approach.\n",
       "\n",
       "**Counterarguments:**\n",
       "A potential counterargument to this argument is that social media can also have positive effects on youth, such as providing a platform for self-expression, connecting with others, and accessing educational resources. Additionally, some argue that the benefits of social media outweigh the risks, particularly for older teenagers and young adults.\n",
       "\n",
       "**Recommendations:**\n",
       "To strengthen the argument, the text could benefit from a more detailed discussion of the potential benefits of social media and a more nuanced exploration of the trade-offs involved. Additionally, the text could consider incorporating more diverse perspectives and expert opinions to add depth and credibility to the argument."
      ],
      "text/plain": [
       "<IPython.core.display.Markdown object>"
      ]
     },
     "metadata": {},
     "output_type": "display_data"
    }
   ],
   "source": [
    "argue(argument=\"Social media is harmful for the youth.\")"
   ]
  },
  {
   "cell_type": "code",
   "execution_count": null,
   "id": "d8061069",
   "metadata": {},
   "outputs": [],
   "source": []
  }
 ],
 "metadata": {
  "kernelspec": {
   "display_name": "persuasion-bias (3.12.7)",
   "language": "python",
   "name": "python3"
  },
  "language_info": {
   "codemirror_mode": {
    "name": "ipython",
    "version": 3
   },
   "file_extension": ".py",
   "mimetype": "text/x-python",
   "name": "python",
   "nbconvert_exporter": "python",
   "pygments_lexer": "ipython3",
   "version": "3.12.7"
  }
 },
 "nbformat": 4,
 "nbformat_minor": 5
}
