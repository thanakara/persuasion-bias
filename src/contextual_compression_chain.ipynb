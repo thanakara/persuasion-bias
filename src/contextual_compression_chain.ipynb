{
 "cells": [
  {
   "cell_type": "code",
   "execution_count": 2,
   "id": "dc1cecb4",
   "metadata": {},
   "outputs": [],
   "source": [
    "import warnings\n",
    "\n",
    "from pathlib import Path\n",
    "from functools import lru_cache\n",
    "\n",
    "from dotenv import load_dotenv\n",
    "from IPython.display import Markdown, display\n",
    "\n",
    "from persuasion_bias.rag.chains import CompressionRAGChain\n",
    "from persuasion_bias.config.logging import LogCallback\n",
    "\n",
    "warnings.filterwarnings(\"ignore\")\n",
    "_ = load_dotenv(override=True)\n",
    "\n",
    "config_file = Path(\"persuasion_bias\") / \"config\" / \"log-config.yaml\"\n",
    "logger_cb = LogCallback()\n",
    "logger_cb.reconfigure_from_file(config_file=config_file)\n",
    "log = logger_cb.logger"
   ]
  },
  {
   "cell_type": "code",
   "execution_count": 3,
   "id": "e400ef70",
   "metadata": {},
   "outputs": [
    {
     "name": "stdout",
     "output_type": "stream",
     "text": [
      "[ERROR @LogCallback]: You must specify either `repo_id` or set `use_anthropic`.\n"
     ]
    },
    {
     "name": "stderr",
     "output_type": "stream",
     "text": [
      "[STDERR: ERROR 2025-09-12 18:46:50,122 chains.py:168]\n"
     ]
    },
    {
     "ename": "ValueError",
     "evalue": "You must specify either `repo_id` or set `use_anthropic`.",
     "output_type": "error",
     "traceback": [
      "\u001b[31m---------------------------------------------------------------------------\u001b[39m",
      "\u001b[31mValueError\u001b[39m                                Traceback (most recent call last)",
      "\u001b[36mCell\u001b[39m\u001b[36m \u001b[39m\u001b[32mIn[3]\u001b[39m\u001b[32m, line 1\u001b[39m\n\u001b[32m----> \u001b[39m\u001b[32m1\u001b[39m compressionRAG = \u001b[43mCompressionRAGChain\u001b[49m\u001b[43m(\u001b[49m\u001b[43mlog\u001b[49m\u001b[43m=\u001b[49m\u001b[43mlog\u001b[49m\u001b[43m)\u001b[49m\n",
      "\u001b[36mFile \u001b[39m\u001b[32mc:\\Users\\thank\\Desktop\\persuasion-bias\\src\\persuasion_bias\\rag\\chains.py:169\u001b[39m, in \u001b[36mCompressionRAGChain.__init__\u001b[39m\u001b[34m(self, log, repo_id, vectorstore, use_anthropic, retriever)\u001b[39m\n\u001b[32m    167\u001b[39m     error_msg = \u001b[33m\"\u001b[39m\u001b[33mYou must specify either `repo_id` or set `use_anthropic`.\u001b[39m\u001b[33m\"\u001b[39m\n\u001b[32m    168\u001b[39m     \u001b[38;5;28mself\u001b[39m.log.error(error_msg)\n\u001b[32m--> \u001b[39m\u001b[32m169\u001b[39m     \u001b[38;5;28;01mraise\u001b[39;00m \u001b[38;5;167;01mValueError\u001b[39;00m(error_msg)\n\u001b[32m    171\u001b[39m \u001b[38;5;28mself\u001b[39m.vectorstore = vectorstore\n\u001b[32m    172\u001b[39m \u001b[38;5;28mself\u001b[39m._retriever = retriever\n",
      "\u001b[31mValueError\u001b[39m: You must specify either `repo_id` or set `use_anthropic`."
     ]
    }
   ],
   "source": [
    "compressionRAG = CompressionRAGChain(log=log)"
   ]
  },
  {
   "cell_type": "code",
   "execution_count": 5,
   "id": "af650560",
   "metadata": {},
   "outputs": [
    {
     "name": "stdout",
     "output_type": "stream",
     "text": [
      "[INFO @LogCallback]: Using Anthropic model: claude-3-5-haiku-20241022\n",
      "[INFO @LogCallback]: \n",
      "    +---------------------------------------------------------------+\n",
      "    | One-turn RAG runnable with contextual compression retrieval.  |\n",
      "    | Optionally selects:                                           |\n",
      "    |       - Claude 3.5 Haiku                                      |\n",
      "    |       - similarity_threshold for relevance filtering          |\n",
      "    +---------------------------------------------------------------+\n",
      "    \n"
     ]
    }
   ],
   "source": [
    "compressionRAG = CompressionRAGChain(log=log, use_anthropic=True)\n",
    "\n",
    "log.info(compressionRAG.__doc__)"
   ]
  },
  {
   "cell_type": "code",
   "execution_count": 6,
   "id": "e7edfe91",
   "metadata": {},
   "outputs": [
    {
     "name": "stdout",
     "output_type": "stream",
     "text": [
      "[INFO @LogCallback]: Creating contextual compression retriever\n",
      "[INFO @sentence_transformers.SentenceTransformer]: Load pretrained SentenceTransformer: sentence-transformers/all-MiniLM-L6-v2\n",
      "[INFO @chromadb.telemetry.product.posthog]: Anonymized telemetry enabled. See                     https://docs.trychroma.com/telemetry for more information.\n",
      "[INFO @LogCallback]: Retriever created and cached\n"
     ]
    }
   ],
   "source": [
    "compression_retriever = compressionRAG._get_contextual_compression_retriever(similarity_threshold=0.45)\n",
    "compressionRAG._retriever = compression_retriever\n",
    "\n",
    "runnable_seq = compressionRAG.create_runnable_sequence()"
   ]
  },
  {
   "cell_type": "code",
   "execution_count": 7,
   "id": "c8cc5c84",
   "metadata": {},
   "outputs": [],
   "source": [
    "@lru_cache(maxsize=16)\n",
    "def argue(argument: str) -> None:\n",
    "    \"\"\"Invoke runnable sequence -  Markdown display\"\"\"\n",
    "\n",
    "    log.info(\"Invoking the model\\n\")\n",
    "    try:\n",
    "        response = runnable_seq.invoke(argument)\n",
    "        display(Markdown(response))\n",
    "    except Exception as e:\n",
    "        log.exception(e)"
   ]
  },
  {
   "cell_type": "code",
   "execution_count": 8,
   "id": "6491d1be",
   "metadata": {},
   "outputs": [
    {
     "name": "stdout",
     "output_type": "stream",
     "text": [
      "[INFO @LogCallback]: Invoking the model\n",
      "\n",
      "[INFO @httpx]: HTTP Request: POST https://api.anthropic.com/v1/messages \"HTTP/1.1 200 OK\"\n"
     ]
    },
    {
     "data": {
      "text/markdown": [
       "## Argument Analysis: Social Media's Impact on Youth\n",
       "\n",
       "### Bias Detection\n",
       "- **Bias Score**: 7/10 (High potential for bias)\n",
       "- **Key Bias Indicators**:\n",
       "  - Emotional language\n",
       "  - Generalized claims\n",
       "  - Lack of nuanced perspective\n",
       "\n",
       "### Argument Strengths\n",
       "1. Developmental concerns\n",
       "2. Mental health risks\n",
       "3. Addiction potential\n",
       "\n",
       "### Argument Weaknesses\n",
       "1. Overgeneralization\n",
       "2. Ignores potential benefits\n",
       "3. Lacks individual variability\n",
       "\n",
       "### Recommended Balanced Perspective\n",
       "- Moderate, supervised technology use\n",
       "- Digital literacy education\n",
       "- Individual monitoring\n",
       "- Balanced screen time\n",
       "\n",
       "### Conclusion\n",
       "While social media presents risks, a blanket condemnation oversimplifies a complex issue. Targeted, informed approaches are more effective than total restriction.\n",
       "\n",
       "### Evidence Base\n",
       "- Multiple AI-generated documents suggest:\n",
       "  - Correlation between social media and mental health issues\n",
       "  - Developmental vulnerability of youth\n",
       "  - Need for guided technology interaction\n",
       "\n",
       "**Recommendation**: Implement structured, age-appropriate digital engagement strategies."
      ],
      "text/plain": [
       "<IPython.core.display.Markdown object>"
      ]
     },
     "metadata": {},
     "output_type": "display_data"
    }
   ],
   "source": [
    "argue(argument=\"Social media is harmful for the youth.\")"
   ]
  },
  {
   "cell_type": "code",
   "execution_count": null,
   "id": "d8061069",
   "metadata": {},
   "outputs": [],
   "source": []
  }
 ],
 "metadata": {
  "kernelspec": {
   "display_name": "persuasion-bias (3.12.7)",
   "language": "python",
   "name": "python3"
  },
  "language_info": {
   "codemirror_mode": {
    "name": "ipython",
    "version": 3
   },
   "file_extension": ".py",
   "mimetype": "text/x-python",
   "name": "python",
   "nbconvert_exporter": "python",
   "pygments_lexer": "ipython3",
   "version": "3.12.7"
  }
 },
 "nbformat": 4,
 "nbformat_minor": 5
}
