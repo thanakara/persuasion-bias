{
 "cells": [
  {
   "cell_type": "code",
   "execution_count": 1,
   "id": "dc1cecb4",
   "metadata": {},
   "outputs": [],
   "source": [
    "import warnings\n",
    "from dotenv import load_dotenv\n",
    "from langchain_huggingface import HuggingFaceEmbeddings\n",
    "\n",
    "warnings.filterwarnings(\"ignore\")\n",
    "_ = load_dotenv(override=True)\n",
    "\n",
    "embedding = HuggingFaceEmbeddings(\n",
    "    model=\"sentence-transformers/all-MiniLM-L6-v2\",\n",
    "    model_kwargs={\"device\": \"cpu\"},\n",
    "    encode_kwargs={\"normalize_embeddings\": True},\n",
    ")"
   ]
  },
  {
   "cell_type": "code",
   "execution_count": 2,
   "id": "e400ef70",
   "metadata": {},
   "outputs": [
    {
     "name": "stdout",
     "output_type": "stream",
     "text": [
      "\n",
      "    +---------------------------------------------------------------+\n",
      "    | One-turn RAG runnable with contextual compression retrieval.  |\n",
      "    | Optionally selects:                                           |\n",
      "    |       - Claude 3.5 Haiku                                      |\n",
      "    |       - similarity_threshold for relevance filtering          |\n",
      "    +---------------------------------------------------------------+\n",
      "    \n"
     ]
    }
   ],
   "source": [
    "from persuasion_bias.rag.chains import CompressionRAGChain\n",
    "\n",
    "compressionRAG = CompressionRAGChain(repo_id=\"meta-llama/Llama-3.2-3B-Instruct\")\n",
    "print(compressionRAG.__doc__)"
   ]
  },
  {
   "cell_type": "code",
   "execution_count": 3,
   "id": "e7edfe91",
   "metadata": {},
   "outputs": [],
   "source": [
    "compression_retriever = compressionRAG._get_contextual_compression_retriever(\n",
    "    similarity_threshold=0.45\n",
    ")\n",
    "compressionRAG._retriever = compression_retriever\n",
    "\n",
    "runnable_seq = compressionRAG.create_runnable_sequence()"
   ]
  },
  {
   "cell_type": "code",
   "execution_count": 11,
   "id": "c8cc5c84",
   "metadata": {},
   "outputs": [],
   "source": [
    "from langchain_core.runnables import RunnableSequence\n",
    "from IPython.display import display, Markdown\n",
    "from functools import lru_cache\n",
    "\n",
    "\n",
    "@lru_cache(maxsize=16)\n",
    "def argue(argument: str) -> None:\n",
    "    \"\"\"DOC String\"\"\"\n",
    "\n",
    "    response = runnable_seq.invoke(argument)\n",
    "    display(Markdown(response))\n"
   ]
  },
  {
   "cell_type": "code",
   "execution_count": 12,
   "id": "6491d1be",
   "metadata": {},
   "outputs": [
    {
     "data": {
      "text/markdown": [
       "To detect bias in the argument and rate it based on score, I'll analyze the provided text.\n",
       "\n",
       "**Bias Detection:**\n",
       "The argument presented is based on the claim that social media is harmful for youth. The text highlights several potential risks associated with social media use among young people, including:\n",
       "\n",
       "1. Addiction and decreased attention span\n",
       "2. Increased risk of depression, anxiety, and low self-esteem\n",
       "3. Negative impact on social skills and emotional intelligence\n",
       "4. Exposure to inappropriate content and online harassment\n",
       "\n",
       "These points are presented as evidence that social media is detrimental to youth, and the author suggests that banning or restricting access to social media until the age of 16 could be a solution.\n",
       "\n",
       "**Rating:**\n",
       "I'll rate the argument based on its persuasiveness, using a scale of 1-10.\n",
       "\n",
       "**Persuasiveness Score: 7/10**\n",
       "\n",
       "The argument is well-structured and presents several valid concerns about the potential harm of social media on youth. However, it relies heavily on anecdotal evidence and general statements, which may not be sufficient to convince all readers. Additionally, the argument does not provide a clear, evidence-based solution to the problem, which might make it less convincing.\n",
       "\n",
       "**Bias Analysis:**\n",
       "The argument exhibits a slight bias towards the negative aspects of social media and its impact on youth. While it acknowledges some potential benefits of social media, such as online connections and learning opportunities, the text primarily focuses on the potential risks. This might lead readers to perceive the argument as overly critical of social media and its effects on youth.\n",
       "\n",
       "**Recommendations:**\n",
       "To strengthen the argument, consider:\n",
       "\n",
       "1. Providing more concrete, evidence-based data to support the claims about the negative effects of social media on youth.\n",
       "2. Offering a more nuanced discussion of the potential benefits of social media, such as online connections and learning opportunities.\n",
       "3. Presenting a more balanced view of the issue, acknowledging both the potential risks and benefits of social media.\n",
       "\n",
       "By addressing these areas, the argument can become more convincing and persuasive."
      ],
      "text/plain": [
       "<IPython.core.display.Markdown object>"
      ]
     },
     "metadata": {},
     "output_type": "display_data"
    }
   ],
   "source": [
    "argue(argument=\"Social media is harmful for the youth.\")"
   ]
  },
  {
   "cell_type": "code",
   "execution_count": null,
   "id": "d8061069",
   "metadata": {},
   "outputs": [],
   "source": []
  }
 ],
 "metadata": {
  "kernelspec": {
   "display_name": "persuasion-bias (3.12.7)",
   "language": "python",
   "name": "python3"
  },
  "language_info": {
   "codemirror_mode": {
    "name": "ipython",
    "version": 3
   },
   "file_extension": ".py",
   "mimetype": "text/x-python",
   "name": "python",
   "nbconvert_exporter": "python",
   "pygments_lexer": "ipython3",
   "version": "3.12.7"
  }
 },
 "nbformat": 4,
 "nbformat_minor": 5
}
