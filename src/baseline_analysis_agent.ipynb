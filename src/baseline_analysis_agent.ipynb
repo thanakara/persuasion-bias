{
 "cells": [
  {
   "cell_type": "code",
   "execution_count": 1,
   "id": "a600ac0e",
   "metadata": {},
   "outputs": [],
   "source": [
    "import warnings\n",
    "from dotenv import load_dotenv\n",
    "from langchain_anthropic import ChatAnthropic\n",
    "from langchain_huggingface import HuggingFaceEmbeddings\n",
    "\n",
    "\n",
    "warnings.filterwarnings(\"ignore\")\n",
    "_ = load_dotenv(override=True)\n",
    "\n",
    "embedding = HuggingFaceEmbeddings(\n",
    "    model=\"sentence-transformers/all-MiniLM-L6-v2\",\n",
    "    model_kwargs={\"device\": \"cpu\"},\n",
    "    encode_kwargs={\"normalize_embeddings\": False},\n",
    ")\n",
    "\n",
    "model_name = \"claude-3-5-haiku-20241022\"\n",
    "llm = ChatAnthropic(temperature=0.1, model_name=model_name)"
   ]
  },
  {
   "cell_type": "code",
   "execution_count": null,
   "id": "be97d9fc",
   "metadata": {},
   "outputs": [
    {
     "data": {
      "image/png": "[encoded data removed]",
      "text/plain": [
       "<langgraph.graph.state.CompiledStateGraph object at 0x000001F3A811D040>"
      ]
     },
     "execution_count": 2,
     "metadata": {},
     "output_type": "execute_result"
    }
   ],
   "source": [
    "from langchain_chroma import Chroma\n",
    "from persuasion_bias.rag.graphs import BiasAnalystAgent\n",
    "\n",
    "\n",
    "rag_system = BiasAnalystAgent(llm=llm, embedding=embedding, vectorstore=Chroma)\n",
    "graph = rag_system._graph_fabricate()\n",
    "\n",
    "graph"
   ]
  },
  {
   "cell_type": "code",
   "execution_count": 3,
   "id": "9af2efa9",
   "metadata": {},
   "outputs": [],
   "source": [
    "from functools import lru_cache\n",
    "from persuasion_bias.core.state import AnalysisState\n",
    "\n",
    "\n",
    "@lru_cache(maxsize=16)\n",
    "def argue(query: str) -> AnalysisState:\n",
    "    \"\"\"Invokes graph to get bias analysis for the argument~\"\"\"\n",
    "\n",
    "    response = graph.invoke({\"query\": query})\n",
    "    return response"
   ]
  },
  {
   "cell_type": "code",
   "execution_count": 4,
   "id": "702a75c5",
   "metadata": {},
   "outputs": [],
   "source": [
    "response = argue(query=\"Social media is harmful for the youth\")"
   ]
  },
  {
   "cell_type": "code",
   "execution_count": 5,
   "id": "eb63ffb3",
   "metadata": {},
   "outputs": [
    {
     "name": "stdout",
     "output_type": "stream",
     "text": [
      "==================================\u001b[1m Ai Message \u001b[0m==================================\n",
      "\n",
      "Retrieved 5 documents from knowledge base.\n",
      "==================================\u001b[1m Ai Message \u001b[0m==================================\n",
      "\n",
      "Bias analysis completed.\n"
     ]
    }
   ],
   "source": [
    "for msg in response[\"messages\"]:\n",
    "    msg.pretty_print()"
   ]
  },
  {
   "cell_type": "code",
   "execution_count": 6,
   "id": "2cd4acbf",
   "metadata": {},
   "outputs": [
    {
     "data": {
      "text/plain": [
       "True"
      ]
     },
     "execution_count": 6,
     "metadata": {},
     "output_type": "execute_result"
    }
   ],
   "source": [
    "response[\"is_argument\"]"
   ]
  },
  {
   "cell_type": "code",
   "execution_count": 7,
   "id": "12b7e0fa",
   "metadata": {},
   "outputs": [
    {
     "data": {
      "text/plain": [
       "{'cialdini_principles': [{'principle': 'Authority',\n",
       "   'confidence': 0.8,\n",
       "   'evidence': 'Research has shown... studies clearly show',\n",
       "   'severity': 'high'},\n",
       "  {'principle': 'Social Proof',\n",
       "   'confidence': 0.6,\n",
       "   'evidence': 'Statistics about smartphone usage trends',\n",
       "   'severity': 'medium'}],\n",
       " 'logical_fallacies': ['appeal to emotion',\n",
       "  'hasty generalization',\n",
       "  'false dichotomy'],\n",
       " 'emotional_manipulation_score': 0.7,\n",
       " 'credibility_issues': ['lack of specific research citations',\n",
       "  'generalized claims about technology impacts'],\n",
       " 'target_audience_analysis': 'Parents and educators concerned about youth technology use, targeting emotional fears about child development',\n",
       " 'overall_bias_score': 0.6}"
      ]
     },
     "execution_count": 7,
     "metadata": {},
     "output_type": "execute_result"
    }
   ],
   "source": [
    "response[\"analysis\"]"
   ]
  },
  {
   "cell_type": "code",
   "execution_count": null,
   "id": "0454c11a",
   "metadata": {},
   "outputs": [],
   "source": []
  }
 ],
 "metadata": {
  "kernelspec": {
   "display_name": "persuasion-bias (3.12.7)",
   "language": "python",
   "name": "python3"
  },
  "language_info": {
   "codemirror_mode": {
    "name": "ipython",
    "version": 3
   },
   "file_extension": ".py",
   "mimetype": "text/x-python",
   "name": "python",
   "nbconvert_exporter": "python",
   "pygments_lexer": "ipython3",
   "version": "3.12.7"
  }
 },
 "nbformat": 4,
 "nbformat_minor": 5
}
