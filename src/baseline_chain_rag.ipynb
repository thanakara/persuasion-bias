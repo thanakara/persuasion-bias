{
 "cells": [
  {
   "cell_type": "code",
   "execution_count": 1,
   "id": "b4698761",
   "metadata": {},
   "outputs": [],
   "source": [
    "import warnings\n",
    "from dotenv import load_dotenv\n",
    "\n",
    "\n",
    "warnings.filterwarnings(action=\"ignore\")\n",
    "_ = load_dotenv()\n"
   ]
  },
  {
   "cell_type": "code",
   "execution_count": 2,
   "id": "a556ec50",
   "metadata": {},
   "outputs": [
    {
     "name": "stdout",
     "output_type": "stream",
     "text": [
      "\n",
      "    +------------------------------------------------+\n",
      "    | Simple one-turn RAG runnable using open source |\n",
      "    +------------------------------------------------+\n",
      "    \n"
     ]
    }
   ],
   "source": [
    "from langchain_chroma import Chroma\n",
    "from persuasion_bias.rag.chain import ChainRAGHuggingFace\n",
    "\n",
    "\n",
    "chain_rag_huggingface = ChainRAGHuggingFace(\n",
    "    model_repo_id=\"meta-llama/Llama-3.2-3B-Instruct\",\n",
    "    embedding_model_repo_id=\"sentence-transformers/all-MiniLM-L6-v2\",\n",
    "    vector_storage=Chroma,\n",
    ")\n",
    "\n",
    "print(chain_rag_huggingface.__doc__)\n"
   ]
  },
  {
   "cell_type": "code",
   "execution_count": 3,
   "id": "a2255cc1",
   "metadata": {},
   "outputs": [],
   "source": [
    "runnable = chain_rag_huggingface.create_runnable_sequence()"
   ]
  },
  {
   "cell_type": "code",
   "execution_count": 4,
   "id": "753aeb42",
   "metadata": {},
   "outputs": [
    {
     "data": {
      "text/plain": [
       "{\n",
       "  question: RunnablePassthrough(),\n",
       "  documents: VectorStoreRetriever(tags=['Chroma', 'HuggingFaceEmbeddings'], vectorstore=<langchain_chroma.vectorstores.Chroma object at 0x00000253D2327290>, search_kwargs={'k': 3})\n",
       "}\n",
       "| ChatPromptTemplate(input_variables=['documents', 'question'], input_types={}, partial_variables={}, messages=[HumanMessagePromptTemplate(prompt=PromptTemplate(input_variables=['documents', 'question'], input_types={}, partial_variables={}, template=\"<|begin_of_text|><|start_header_id|>system<|end_header_id|>\\n\\nCutting Knowledge Date: December 2023\\nToday Date: 07 Sep 2025\\n\\nYou are a helpful assistant who is an expert\\n    in persuassiveness and argumentation. Detect bias in the argument\\n    and rate it based on score. Give succinct answers, only in Markdown.\\n    IF ONLY the user's question resolves around argumentation,\\n    retrieve documents from your knowledge base. ELSE, respond\\n    normally as you would, without retrieval.\\n\\n    Documents: {documents}<|eot_id|><|start_header_id|>user<|end_header_id|>\\n\\n{question}<|eot_id|><|start_header_id|>assistant<|end_header_id|>\\n\\n\"), additional_kwargs={})])\n",
       "| ChatHuggingFace(llm=HuggingFaceEndpoint(repo_id='meta-llama/Llama-3.2-3B-Instruct', repetition_penalty=1.03, stop_sequences=[], server_kwargs={}, model_kwargs={}, model='meta-llama/Llama-3.2-3B-Instruct', client=<InferenceClient(model='meta-llama/Llama-3.2-3B-Instruct', timeout=120)>, async_client=<InferenceClient(model='meta-llama/Llama-3.2-3B-Instruct', timeout=120)>, task='text-generation'), model_id='meta-llama/Llama-3.2-3B-Instruct', model_kwargs={})\n",
       "| StrOutputParser()"
      ]
     },
     "execution_count": 4,
     "metadata": {},
     "output_type": "execute_result"
    }
   ],
   "source": [
    "runnable"
   ]
  },
  {
   "cell_type": "code",
   "execution_count": 5,
   "id": "c2cf0217",
   "metadata": {},
   "outputs": [],
   "source": [
    "from functools import cache\n",
    "from IPython.display import display, Markdown\n",
    "\n",
    "\n",
    "@cache\n",
    "def argue(argument: str) -> None:\n",
    "    reply = runnable.invoke(argument)\n",
    "\n",
    "    display(Markdown(reply))"
   ]
  },
  {
   "cell_type": "code",
   "execution_count": 6,
   "id": "1a39ea53",
   "metadata": {},
   "outputs": [
    {
     "data": {
      "text/markdown": [
       "**Bias Rating: 6/10**\n",
       "\n",
       "The argument presented is largely persuasive, but it has some biases and flaws.\n",
       "\n",
       "**Biases:**\n",
       "\n",
       "1. **Selective presentation of facts**: The argument focuses on the negative effects of smartphones and social media on children's development, but it does not provide a balanced view of the benefits of these technologies, such as access to information, social connections, and educational resources.\n",
       "2. **Overemphasis on risks**: The argument highlights the potential risks of smartphones and social media, but it does not consider the potential benefits and the fact that many children can use these technologies responsibly.\n",
       "3. **Lack of empirical evidence**: The argument relies on general statements and anecdotal evidence, but it does not provide specific studies or data to support its claims.\n",
       "\n",
       "**Flaws:**\n",
       "\n",
       "1. **Overly broad statement**: The argument claims that smartphones and social media should be banned for all children under 16, which is an overly broad statement that does not take into account individual differences and circumstances.\n",
       "2. **Lack of alternative solutions**: The argument does not propose alternative solutions or compromises, such as setting limits on screen time or providing education and resources to help children use these technologies responsibly.\n",
       "\n",
       "**Recommendation:**\n",
       "\n",
       "To make the argument more persuasive, it would be helpful to:\n",
       "\n",
       "1. Provide a more balanced view of the benefits and risks of smartphones and social media.\n",
       "2. Offer specific examples and empirical evidence to support its claims.\n",
       "3. Propose alternative solutions or compromises to address the concerns raised.\n",
       "4. Acknowledge the complexity of the issue and the need for a nuanced approach."
      ],
      "text/plain": [
       "<IPython.core.display.Markdown object>"
      ]
     },
     "metadata": {},
     "output_type": "display_data"
    }
   ],
   "source": [
    "argue(\"Attention span is decreasing.\")"
   ]
  },
  {
   "cell_type": "code",
   "execution_count": 7,
   "id": "e31c5ddc",
   "metadata": {},
   "outputs": [
    {
     "data": {
      "text/markdown": [
       "**Bias Detection and Rating**\n",
       "\n",
       "The argument presented is a general statement about taxation in the US being higher than in Europe. However, it lacks specific data and examples to support this claim.\n",
       "\n",
       "**Rating: 2/10**\n",
       "\n",
       "The argument is too broad and lacks concrete evidence to make a convincing case. It's a general statement that can be disputed by various factors, such as the type of taxes, the economic conditions, and the specific countries within Europe.\n",
       "\n",
       "**Suggestions for improvement:**\n",
       "\n",
       "1. Provide specific examples of taxes that are higher in the US compared to Europe.\n",
       "2. Cite credible sources to support the claim.\n",
       "3. Explain the implications of higher taxation in the US and how it affects the economy and citizens.\n",
       "\n",
       "**Document Analysis**\n",
       "\n",
       "Based on the provided documents, there is no direct evidence to support the claim that taxation in the US is higher than in Europe. However, Document #6df509cd-ec44-47e7-9350-e7b88c1ac1e9 mentions that the US has a high tax burden, but it does not compare it to European taxation.\n",
       "\n",
       "Document #9bc5704e-1efb-4cfb-a1dc-2e1668d1f9ae discusses the high cost of prescription drugs in the US, but it does not address taxation.\n",
       "\n",
       "To make a stronger argument, you would need to provide more specific and credible evidence to support the claim."
      ],
      "text/plain": [
       "<IPython.core.display.Markdown object>"
      ]
     },
     "metadata": {},
     "output_type": "display_data"
    }
   ],
   "source": [
    "argue(\"Taxation in US is higher than Europe.\")"
   ]
  },
  {
   "cell_type": "code",
   "execution_count": null,
   "id": "8ec02e01",
   "metadata": {},
   "outputs": [],
   "source": []
  }
 ],
 "metadata": {
  "kernelspec": {
   "display_name": "persuasion-bias (3.12.7)",
   "language": "python",
   "name": "python3"
  },
  "language_info": {
   "codemirror_mode": {
    "name": "ipython",
    "version": 3
   },
   "file_extension": ".py",
   "mimetype": "text/x-python",
   "name": "python",
   "nbconvert_exporter": "python",
   "pygments_lexer": "ipython3",
   "version": "3.12.7"
  }
 },
 "nbformat": 4,
 "nbformat_minor": 5
}
